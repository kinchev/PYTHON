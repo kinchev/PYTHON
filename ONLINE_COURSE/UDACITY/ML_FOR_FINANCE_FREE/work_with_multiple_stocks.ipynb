{
 "cells": [
  {
   "cell_type": "code",
   "execution_count": 100,
   "metadata": {},
   "outputs": [],
   "source": [
    "import pandas as pd \n"
   ]
  },
  {
   "cell_type": "code",
   "execution_count": 101,
   "metadata": {},
   "outputs": [],
   "source": [
    "def test():\n",
    "    start_date='2022-01-01'\n",
    "    end_date='2022-07-01'\n",
    "    dates=pd.date_range(start_date,end_date)\n",
    "    df1=pd.DataFrame(index=dates)\n",
    "\n",
    "    # df_ETH=pd.read_csv('ETH-USD.csv',index_col='Date',\n",
    "    # parse_dates=True,\n",
    "    # usecols=['Date','Close'],na_values=['nan']\n",
    "    # )\n",
    "    # df_ETH=df_ETH.rename(columns={'Close':'ETH'})\n",
    "    # df_BTC=pd.read_csv('BTC-USD.csv',index_col='Date',parse_dates=True,na_values=['nan'])\n",
    "\n",
    "    # df1=df1.join(df_ETH,how='inner')\n",
    "\n",
    "    symbols=['ETH-USD','BTC-USD','SOL-USD']\n",
    "    for symbol in symbols:\n",
    "        df_temp=pd.read_csv(f'{symbol}.csv',index_col='Date',\n",
    "        parse_dates=True,\n",
    "        usecols=['Date','Close'],na_values=['nan'])\n",
    "        df_temp=df_temp.rename(columns={'Close':symbol})\n",
    "        df1=df1.join(df_temp)\n",
    "    \n",
    "\n",
    "   \n",
    "    df1=df1/df1[0]\n",
    "    df1\n",
    "    \n"
   ]
  },
  {
   "cell_type": "code",
   "execution_count": 102,
   "metadata": {},
   "outputs": [
    {
     "ename": "KeyError",
     "evalue": "0",
     "output_type": "error",
     "traceback": [
      "\u001b[0;31m---------------------------------------------------------------------------\u001b[0m",
      "\u001b[0;31mKeyError\u001b[0m                                  Traceback (most recent call last)",
      "File \u001b[0;32m/usr/local/lib/python3.10/dist-packages/pandas/core/indexes/base.py:3621\u001b[0m, in \u001b[0;36mIndex.get_loc\u001b[0;34m(self, key, method, tolerance)\u001b[0m\n\u001b[1;32m   3620\u001b[0m \u001b[39mtry\u001b[39;00m:\n\u001b[0;32m-> 3621\u001b[0m     \u001b[39mreturn\u001b[39;00m \u001b[39mself\u001b[39;49m\u001b[39m.\u001b[39;49m_engine\u001b[39m.\u001b[39;49mget_loc(casted_key)\n\u001b[1;32m   3622\u001b[0m \u001b[39mexcept\u001b[39;00m \u001b[39mKeyError\u001b[39;00m \u001b[39mas\u001b[39;00m err:\n",
      "File \u001b[0;32m/usr/local/lib/python3.10/dist-packages/pandas/_libs/index.pyx:136\u001b[0m, in \u001b[0;36mpandas._libs.index.IndexEngine.get_loc\u001b[0;34m()\u001b[0m\n",
      "File \u001b[0;32m/usr/local/lib/python3.10/dist-packages/pandas/_libs/index.pyx:163\u001b[0m, in \u001b[0;36mpandas._libs.index.IndexEngine.get_loc\u001b[0;34m()\u001b[0m\n",
      "File \u001b[0;32mpandas/_libs/hashtable_class_helper.pxi:5198\u001b[0m, in \u001b[0;36mpandas._libs.hashtable.PyObjectHashTable.get_item\u001b[0;34m()\u001b[0m\n",
      "File \u001b[0;32mpandas/_libs/hashtable_class_helper.pxi:5206\u001b[0m, in \u001b[0;36mpandas._libs.hashtable.PyObjectHashTable.get_item\u001b[0;34m()\u001b[0m\n",
      "\u001b[0;31mKeyError\u001b[0m: 0",
      "\nThe above exception was the direct cause of the following exception:\n",
      "\u001b[0;31mKeyError\u001b[0m                                  Traceback (most recent call last)",
      "\u001b[1;32m/home/kvk/Desktop/PYTHON/ONLINE_COURSE/UDACITY/ML_FOR_FINANCE_FREE/work_with_multiple_stocks.ipynb Cell 3'\u001b[0m in \u001b[0;36m<cell line: 1>\u001b[0;34m()\u001b[0m\n\u001b[1;32m      <a href='vscode-notebook-cell:/home/kvk/Desktop/PYTHON/ONLINE_COURSE/UDACITY/ML_FOR_FINANCE_FREE/work_with_multiple_stocks.ipynb#ch0000002?line=0'>1</a>\u001b[0m \u001b[39mif\u001b[39;00m \u001b[39m__name__\u001b[39m \u001b[39m==\u001b[39m \u001b[39m\"\u001b[39m\u001b[39m__main__\u001b[39m\u001b[39m\"\u001b[39m:\n\u001b[0;32m----> <a href='vscode-notebook-cell:/home/kvk/Desktop/PYTHON/ONLINE_COURSE/UDACITY/ML_FOR_FINANCE_FREE/work_with_multiple_stocks.ipynb#ch0000002?line=1'>2</a>\u001b[0m     test()\n",
      "\u001b[1;32m/home/kvk/Desktop/PYTHON/ONLINE_COURSE/UDACITY/ML_FOR_FINANCE_FREE/work_with_multiple_stocks.ipynb Cell 2'\u001b[0m in \u001b[0;36mtest\u001b[0;34m()\u001b[0m\n\u001b[1;32m     <a href='vscode-notebook-cell:/home/kvk/Desktop/PYTHON/ONLINE_COURSE/UDACITY/ML_FOR_FINANCE_FREE/work_with_multiple_stocks.ipynb#ch0000001?line=20'>21</a>\u001b[0m     df_temp\u001b[39m=\u001b[39mdf_temp\u001b[39m.\u001b[39mrename(columns\u001b[39m=\u001b[39m{\u001b[39m'\u001b[39m\u001b[39mClose\u001b[39m\u001b[39m'\u001b[39m:symbol})\n\u001b[1;32m     <a href='vscode-notebook-cell:/home/kvk/Desktop/PYTHON/ONLINE_COURSE/UDACITY/ML_FOR_FINANCE_FREE/work_with_multiple_stocks.ipynb#ch0000001?line=21'>22</a>\u001b[0m     df1\u001b[39m=\u001b[39mdf1\u001b[39m.\u001b[39mjoin(df_temp)\n\u001b[0;32m---> <a href='vscode-notebook-cell:/home/kvk/Desktop/PYTHON/ONLINE_COURSE/UDACITY/ML_FOR_FINANCE_FREE/work_with_multiple_stocks.ipynb#ch0000001?line=25'>26</a>\u001b[0m df1\u001b[39m=\u001b[39mdf1\u001b[39m/\u001b[39mdf1[\u001b[39m0\u001b[39;49m]\n\u001b[1;32m     <a href='vscode-notebook-cell:/home/kvk/Desktop/PYTHON/ONLINE_COURSE/UDACITY/ML_FOR_FINANCE_FREE/work_with_multiple_stocks.ipynb#ch0000001?line=26'>27</a>\u001b[0m df1\n",
      "File \u001b[0;32m/usr/local/lib/python3.10/dist-packages/pandas/core/frame.py:3505\u001b[0m, in \u001b[0;36mDataFrame.__getitem__\u001b[0;34m(self, key)\u001b[0m\n\u001b[1;32m   3503\u001b[0m \u001b[39mif\u001b[39;00m \u001b[39mself\u001b[39m\u001b[39m.\u001b[39mcolumns\u001b[39m.\u001b[39mnlevels \u001b[39m>\u001b[39m \u001b[39m1\u001b[39m:\n\u001b[1;32m   3504\u001b[0m     \u001b[39mreturn\u001b[39;00m \u001b[39mself\u001b[39m\u001b[39m.\u001b[39m_getitem_multilevel(key)\n\u001b[0;32m-> 3505\u001b[0m indexer \u001b[39m=\u001b[39m \u001b[39mself\u001b[39;49m\u001b[39m.\u001b[39;49mcolumns\u001b[39m.\u001b[39;49mget_loc(key)\n\u001b[1;32m   3506\u001b[0m \u001b[39mif\u001b[39;00m is_integer(indexer):\n\u001b[1;32m   3507\u001b[0m     indexer \u001b[39m=\u001b[39m [indexer]\n",
      "File \u001b[0;32m/usr/local/lib/python3.10/dist-packages/pandas/core/indexes/base.py:3623\u001b[0m, in \u001b[0;36mIndex.get_loc\u001b[0;34m(self, key, method, tolerance)\u001b[0m\n\u001b[1;32m   3621\u001b[0m     \u001b[39mreturn\u001b[39;00m \u001b[39mself\u001b[39m\u001b[39m.\u001b[39m_engine\u001b[39m.\u001b[39mget_loc(casted_key)\n\u001b[1;32m   3622\u001b[0m \u001b[39mexcept\u001b[39;00m \u001b[39mKeyError\u001b[39;00m \u001b[39mas\u001b[39;00m err:\n\u001b[0;32m-> 3623\u001b[0m     \u001b[39mraise\u001b[39;00m \u001b[39mKeyError\u001b[39;00m(key) \u001b[39mfrom\u001b[39;00m \u001b[39merr\u001b[39;00m\n\u001b[1;32m   3624\u001b[0m \u001b[39mexcept\u001b[39;00m \u001b[39mTypeError\u001b[39;00m:\n\u001b[1;32m   3625\u001b[0m     \u001b[39m# If we have a listlike key, _check_indexing_error will raise\u001b[39;00m\n\u001b[1;32m   3626\u001b[0m     \u001b[39m#  InvalidIndexError. Otherwise we fall through and re-raise\u001b[39;00m\n\u001b[1;32m   3627\u001b[0m     \u001b[39m#  the TypeError.\u001b[39;00m\n\u001b[1;32m   3628\u001b[0m     \u001b[39mself\u001b[39m\u001b[39m.\u001b[39m_check_indexing_error(key)\n",
      "\u001b[0;31mKeyError\u001b[0m: 0"
     ]
    }
   ],
   "source": [
    "if __name__ == \"__main__\":\n",
    "    test()"
   ]
  },
  {
   "cell_type": "code",
   "execution_count": null,
   "metadata": {},
   "outputs": [],
   "source": []
  },
  {
   "cell_type": "code",
   "execution_count": null,
   "metadata": {},
   "outputs": [
    {
     "ename": "NameError",
     "evalue": "name 'df1' is not defined",
     "output_type": "error",
     "traceback": [
      "\u001b[0;31m---------------------------------------------------------------------------\u001b[0m",
      "\u001b[0;31mNameError\u001b[0m                                 Traceback (most recent call last)",
      "\u001b[1;32m/home/kvk/Desktop/PYTHON/ONLINE_COURSE/UDACITY/ML_FOR_FINANCE_FREE/work_with_multiple_stocks.ipynb Cell 5'\u001b[0m in \u001b[0;36m<cell line: 1>\u001b[0;34m()\u001b[0m\n\u001b[0;32m----> <a href='vscode-notebook-cell:/home/kvk/Desktop/PYTHON/ONLINE_COURSE/UDACITY/ML_FOR_FINANCE_FREE/work_with_multiple_stocks.ipynb#ch0000004?line=0'>1</a>\u001b[0m df1\u001b[39m=\u001b[39mdf1\u001b[39m/\u001b[39mdf1[\u001b[39m0\u001b[39m]\n\u001b[1;32m      <a href='vscode-notebook-cell:/home/kvk/Desktop/PYTHON/ONLINE_COURSE/UDACITY/ML_FOR_FINANCE_FREE/work_with_multiple_stocks.ipynb#ch0000004?line=1'>2</a>\u001b[0m df1\n",
      "\u001b[0;31mNameError\u001b[0m: name 'df1' is not defined"
     ]
    }
   ],
   "source": []
  }
 ],
 "metadata": {
  "kernelspec": {
   "display_name": "Python 3 (ipykernel)",
   "language": "python",
   "name": "python3"
  },
  "language_info": {
   "codemirror_mode": {
    "name": "ipython",
    "version": 3
   },
   "file_extension": ".py",
   "mimetype": "text/x-python",
   "name": "python",
   "nbconvert_exporter": "python",
   "pygments_lexer": "ipython3",
   "version": "3.10.5"
  },
  "orig_nbformat": 4
 },
 "nbformat": 4,
 "nbformat_minor": 2
}
